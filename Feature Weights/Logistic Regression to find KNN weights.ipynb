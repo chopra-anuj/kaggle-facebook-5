{
 "cells": [
  {
   "cell_type": "code",
   "execution_count": null,
   "metadata": {
    "collapsed": true
   },
   "outputs": [],
   "source": [
    "\"\"\"This code helps to find out feature multipliers for KNN.\n",
    "This is shown using some features derived by me but this method can be extended for other features as well.\n",
    "One needs to derive his own features and then apply similar approach to get the correct weights.\n",
    "This code has been discussed here:\n",
    "https://www.kaggle.com/chopra/facebook-v-predicting-check-ins/logistic-regression-to-find-knn-weights/code\n",
    "\"\"\"\n",
    "\n",
    "import numpy as np # linear algebra\n",
    "import pandas as pd # data processing, CSV file I/O (e.g. pd.read_csv)\n",
    "from sklearn.linear_model import LogisticRegression\n",
    "lr = LogisticRegression()\n",
    "\n",
    "train = pd.read_csv(\"../engineered_train.csv\")\n",
    "\n",
    "#select a single x_y_grid at random\n",
    "train = train[(train[\"x\"]>4500) &(train[\"x\"]<5000) &(train[\"y\"]>2000) &(train[\"y\"]<2300)]\n",
    "\n",
    "print(\"train created\")"
   ]
  },
  {
   "cell_type": "code",
   "execution_count": null,
   "metadata": {
    "collapsed": true
   },
   "outputs": [],
   "source": [
    "test = train.sample(axis = 0,frac = 0.05)\n",
    "print (\"selected_part and test created\")\n",
    "features = [\"x\",\"y\",\"hour_of_day\",\"day_of_week\",\"month_of_year\",\"accuracy\"]\n",
    "fw = [1,1,0,0,0,0] #at first iteration\n",
    "fw = [ 1.  ,      1.43696871,  1.26585057,  0.78156837,  1.28182383,  7.01014412] #at second iteration\n",
    "\n",
    "print (len(test))"
   ]
  },
  {
   "cell_type": "code",
   "execution_count": null,
   "metadata": {
    "collapsed": true
   },
   "outputs": [],
   "source": [
    "colname = str(features)\n",
    "test[colname] = list\n",
    "index = iter(test.index)\n",
    "test[\"done\"] = 0\n",
    "count = 0\n",
    "for i in index:\n",
    "    new_ld = pd.DataFrame(columns = features)\n",
    "    for j in range(15):\n",
    "        new_ld1 = abs(train[features] - test.loc[i][features])\n",
    "        new_ld1 = new_ld1.drop(i)\n",
    "        new_ld1[\"target\"] = (train[\"place_id\"] != test.loc[i][\"place_id\"]) + 0\n",
    "        new_ld1[\"x+y\"] = np.sum(new_ld1[features]*fw,axis = 1)#(new_ld1[\"x\"])+(new_ld1[\"y\"])#\n",
    "        new_ld1 = new_ld1.sort(\"x+y\")[0:50]\n",
    "        count += 1\n",
    "        try:\n",
    "            i = next(index)\n",
    "        except:\n",
    "            break\n",
    "        true = new_ld1[new_ld1[\"target\"] == 0]\n",
    "        false = new_ld1[new_ld1[\"target\"] != 0]\n",
    "        if (len(true)< 10) | (len(false)< 10):\n",
    "            continue\n",
    "        new_ld = new_ld.append(new_ld1)\n",
    "    lr.fit(new_ld[features],new_ld[\"target\"])\n",
    "    test.set_value(i,colname,lr.coef_.ravel())\n",
    "    test.set_value(i,\"done\",1)\n",
    "    print (\"current status: sample number\",count)"
   ]
  },
  {
   "cell_type": "code",
   "execution_count": null,
   "metadata": {
    "collapsed": true
   },
   "outputs": [],
   "source": [
    "#average or sum all the multipliers to get overall multiplier\n",
    "actual_test2 = test[test[\"done\"]==1]\n",
    "final_weights = np.array([0,0,0,0,0,0])\n",
    "for lists in actual_test2[colname]:\n",
    "    final_weights = final_weights + lists\n",
    "\n",
    "\n",
    "print (features) \n",
    "print (\"corresponding weights\")\n",
    "print (final_weights/final_weights[0])"
   ]
  },
  {
   "cell_type": "code",
   "execution_count": null,
   "metadata": {
    "collapsed": true
   },
   "outputs": [],
   "source": []
  }
 ],
 "metadata": {
  "kernelspec": {
   "display_name": "Python 2",
   "language": "python",
   "name": "python2"
  },
  "language_info": {
   "codemirror_mode": {
    "name": "ipython",
    "version": 2
   },
   "file_extension": ".py",
   "mimetype": "text/x-python",
   "name": "python",
   "nbconvert_exporter": "python",
   "pygments_lexer": "ipython2",
   "version": "2.7.11"
  }
 },
 "nbformat": 4,
 "nbformat_minor": 0
}
